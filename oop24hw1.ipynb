{
 "cells": [
  {
   "cell_type": "markdown",
   "id": "49b2bb3f-8a94-4aba-bf67-6b97d86c0047",
   "metadata": {},
   "source": [
    "# OOP (2024 Fall) HW1: 불변 순서쌍을 활용해 가변 순서쌍 만들기 \n",
    "- 이름: 배상진\n",
    "- 학번: 20210551\n",
    "\n",
    "여기 홍길동, 99999999 대신 본인의 이름, 학번 작성"
   ]
  },
  {
   "cell_type": "markdown",
   "id": "9c3c24aa-19ac-4c88-a228-0d1686034a24",
   "metadata": {},
   "source": [
    "-----\n",
    "## Part A: 불변 순서쌍 Pair\n",
    "1. 클래스(또는 정적) 팩토리 메소드 `of`를 를 수정하여 완성하라.\n",
    "    - https://velog.io/@cjh8746/%EC%A0%95%EC%A0%81-%ED%8C%A9%ED%86%A0%EB%A6%AC-%EB%A9%94%EC%84%9C%EB%93%9CStatic-Factory-Method\n",
    "1. 주석 부분을 풀어 제너릭 클래스인 `Pair`가 제너릭 인터페이스 `Comparable`를 구현하도록 완성하라.\n",
    "    - https://docs.oracle.com/en/java/javase/22/docs/api/java.base/java/lang/Comparable.html"
   ]
  },
  {
   "cell_type": "code",
   "execution_count": 3,
   "id": "f2b4bcb7-9d9c-494a-9762-ca0700c6f762",
   "metadata": {},
   "outputs": [],
   "source": [
    "record Pair<F extends Comparable<F>, S extends Comparable<S>>(F first, S second) implements Comparable<Pair<F, S>> /* implements Comparable< ... > */ {\n",
    "    \n",
    "    // 아래 팩토리 메소드 of가 컴파일되지 않고 있으니 컴파일되도록 수정하라 (힌트: 제너릭 메소드)\n",
    "    static <F extends Comparable<F>, S extends Comparable<S>> Pair<F, S> of(F first, S second) {\n",
    "        return new Pair<>(first, second);\n",
    "    }\n",
    "    \n",
    "    // 사전순이 되도록 정의하기. 즉 first가 더 큰 쪽이 더 크고, first가 같으면 second를 비교\n",
    "    @Override\n",
    "    public int compareTo(Pair<F, S> other) {\n",
    "        int firstComparison = this.first.compareTo(other.first);\n",
    "        if (firstComparison != 0) {\n",
    "            return firstComparison;\n",
    "        }\n",
    "        return this.second.compareTo(other.second);\n",
    "    }\n",
    "}"
   ]
  },
  {
   "cell_type": "code",
   "execution_count": 4,
   "id": "5fb5b2ac-4ac0-40cc-9f87-1675177e4baa",
   "metadata": {},
   "outputs": [
    {
     "name": "stdout",
     "output_type": "stream",
     "text": [
      "1\n",
      "-1\n",
      "-1\n",
      "0\n"
     ]
    }
   ],
   "source": [
    "/* compareTo 가 잘 동작하는지\n",
    "   - 왼쪽이 더 큰 경우\n",
    "   - 왼쪽이 더 작은 경우\n",
    "   - 같은 경우\n",
    "   이런 경우를 각각 포함하도록 이렇게 최소 3개 이상의 테스트를 실행해 보라\n",
    "*/\n",
    "\n",
    "// 첫 번째 Pair: 왼쪽이 더 큰 경우\n",
    "Pair<Integer, String> pair1 = Pair.of(5, \"apple\");\n",
    "Pair<Integer, String> pair2 = Pair.of(3, \"banana\");\n",
    "System.out.println(pair1.compareTo(pair2)); // 양수: pair1이 더 큼\n",
    "\n",
    "// 두 번째 Pair: 왼쪽이 더 작은 경우\n",
    "Pair<Integer, String> pair3 = Pair.of(2, \"apple\");\n",
    "Pair<Integer, String> pair4 = Pair.of(4, \"banana\");\n",
    "System.out.println(pair3.compareTo(pair4)); // 음수: pair3이 더 작음\n",
    "\n",
    "// 세 번째 Pair: first는 같고 second가 다른 경우\n",
    "Pair<Integer, String> pair5 = Pair.of(3, \"apple\");\n",
    "Pair<Integer, String> pair6 = Pair.of(3, \"banana\");\n",
    "System.out.println(pair5.compareTo(pair6)); // 음수: second 기준으로 pair5가 더 작음\n",
    "\n",
    "// 네 번째 Pair: 같은 경우\n",
    "Pair<Integer, String> pair7 = Pair.of(3, \"apple\");\n",
    "Pair<Integer, String> pair8 = Pair.of(3, \"apple\");\n",
    "System.out.println(pair7.compareTo(pair8)); // 0: 동일한 값\n",
    "\n",
    "// 대략 이런 식으로 테스트 실행\n",
    "// System.out.println( ??.compareTo(??) );\n",
    "// System.out.println( ??.compareTo(??) );\n",
    "// System.out.println( ??.compareTo(??) );"
   ]
  },
  {
   "cell_type": "markdown",
   "id": "e2774a64-250e-4e89-a536-5a8ed42bb4ce",
   "metadata": {},
   "source": [
    "------"
   ]
  },
  {
   "cell_type": "code",
   "execution_count": 8,
   "id": "38eb649f-d95e-40d8-a33b-658df4ee4a7f",
   "metadata": {},
   "outputs": [],
   "source": [
    "class ModifiablePair<F extends Comparable<F>, S extends Comparable<S>> implements Comparable<ModifiablePair<F, S>> /* implements Comparable< ... > */ {\n",
    "    private Pair<F,S> pair; // 이 field 말고 다른 field는 추가로 정의하지 말 것!\n",
    "\n",
    "    ModifiablePair(F first, S second) {\n",
    "        this.pair = Pair.of(first, second);\n",
    "    }\n",
    "    \n",
    "    // getter들은 pair에게 위임(delegate)하는 방식으로 작성하라\n",
    "    public F first() {\n",
    "        return pair.first();\n",
    "    }\n",
    "    public S second() {\n",
    "        return pair.second();\n",
    "    }\n",
    "    \n",
    "    // setter들은 적절히 정의하라\n",
    "    public void setFirst(F first) {\n",
    "        this.pair = new Pair<>(first, pair.second());\n",
    "    }\n",
    "    public void setSecond(S second) {\n",
    "        this.pair = new Pair<>(pair.first(), second);\n",
    "    }\n",
    "\n",
    "    // compareTo는 pair에게 위임(delegate)하는 방식으로 작성하라\n",
    "    @Override\n",
    "    public int compareTo(ModifiablePair<F, S> other) {\n",
    "        return this.pair.compareTo(other.pair);\n",
    "    }\n",
    "\n",
    "    @Override\n",
    "    public String toString() { \n",
    "        return pair.toString(); // toString은 그냥 pair에게 위임\n",
    "    }\n",
    "}"
   ]
  },
  {
   "cell_type": "code",
   "execution_count": 9,
   "id": "57af3b33-b9db-43bd-a8e7-5b35d97aaf5e",
   "metadata": {},
   "outputs": [
    {
     "name": "stdout",
     "output_type": "stream",
     "text": [
      "Initial state:\n",
      "First: 1\n",
      "Second: apple\n",
      "\n",
      "After setting first to 10:\n",
      "First: 10\n",
      "Second: apple\n",
      "\n",
      "After setting second to banana:\n",
      "First: 10\n",
      "Second: banana\n",
      "\n",
      "Comparison with (5, apple): 1\n",
      "Comparison with (10, orange): -13\n",
      "Comparison with (10, banana): 0\n"
     ]
    }
   ],
   "source": [
    "// ModifiablePair<F,S>의 getter와 setter들이 잘 동작하는지 확인할 수 있는 적절한 테스트 코드 작성하여 실행하라.\n",
    "// 그러니까 `first()`, `second()`, `setFrist(F)`, `setSecond(S)` 메소드를 모두 활용하는 예시 코드를 작성해 실행하라는 말이다.\n",
    "// ModifiablePair 객체 생성\n",
    "        ModifiablePair<Integer, String> modPair = new ModifiablePair<>(1, \"apple\");\n",
    "\n",
    "        // 초기값 출력\n",
    "        System.out.println(\"Initial state:\");\n",
    "        System.out.println(\"First: \" + modPair.first());  // 기대: 1\n",
    "        System.out.println(\"Second: \" + modPair.second()); // 기대: \"apple\"\n",
    "\n",
    "        // setter를 사용하여 first 값을 변경\n",
    "        modPair.setFirst(10);\n",
    "        System.out.println(\"\\nAfter setting first to 10:\");\n",
    "        System.out.println(\"First: \" + modPair.first());  // 기대: 10\n",
    "        System.out.println(\"Second: \" + modPair.second()); // 기대: \"apple\"\n",
    "\n",
    "        // setter를 사용하여 second 값을 변경\n",
    "        modPair.setSecond(\"banana\");\n",
    "        System.out.println(\"\\nAfter setting second to banana:\");\n",
    "        System.out.println(\"First: \" + modPair.first());  // 기대: 10\n",
    "        System.out.println(\"Second: \" + modPair.second()); // 기대: \"banana\"\n",
    "\n",
    "        // compareTo 테스트 (10, banana)와 (5, apple) 비교\n",
    "        ModifiablePair<Integer, String> otherPair = new ModifiablePair<>(5, \"apple\");\n",
    "        System.out.println(\"\\nComparison with (5, apple): \" + modPair.compareTo(otherPair)); // 기대: 양수\n",
    "\n",
    "        // compareTo 테스트 (10, banana)와 (10, orange) 비교\n",
    "        ModifiablePair<Integer, String> anotherPair = new ModifiablePair<>(10, \"orange\");\n",
    "        System.out.println(\"Comparison with (10, orange): \" + modPair.compareTo(anotherPair)); // 기대: 음수\n",
    "\n",
    "        // compareTo 테스트 (10, banana)와 (10, banana) 비교\n",
    "        ModifiablePair<Integer, String> samePair = new ModifiablePair<>(10, \"banana\");\n",
    "        System.out.println(\"Comparison with (10, banana): \" + modPair.compareTo(samePair)); // 기대: 0"
   ]
  },
  {
   "cell_type": "code",
   "execution_count": null,
   "id": "9c5bba29-7a17-464e-8173-405bf61cf05a",
   "metadata": {},
   "outputs": [],
   "source": []
  }
 ],
 "metadata": {
  "kernelspec": {
   "display_name": "Java (rjk 2.1.0)",
   "language": "java",
   "name": "rapaio-jupyter-kernel"
  },
  "language_info": {
   "codemirror_mode": "java",
   "file_extension": ".jshell",
   "mimetype": "text/x-java-source",
   "name": "java",
   "nbconvert_exporter": "script",
   "pygments_lexer": "java",
   "version": "22.0.2+9"
  }
 },
 "nbformat": 4,
 "nbformat_minor": 5
}
